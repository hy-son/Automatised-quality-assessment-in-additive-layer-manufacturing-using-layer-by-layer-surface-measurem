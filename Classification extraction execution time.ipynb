{
 "cells": [
  {
   "cell_type": "markdown",
   "metadata": {},
   "source": [
    "# Classification extraction\n",
    "\n",
    "Will load images, then classify them using previous developed CNN"
   ]
  },
  {
   "cell_type": "code",
   "execution_count": 18,
   "metadata": {},
   "outputs": [],
   "source": [
    "import torch\n",
    "from torchvision import models\n",
    "from torchvision import transforms\n",
    "import numpy as np\n",
    "from pathlib import Path\n",
    "from tqdm import tqdm\n",
    "import cv2\n",
    "import random\n",
    "from PIL import Image\n",
    "import time"
   ]
  },
  {
   "cell_type": "markdown",
   "metadata": {},
   "source": [
    "## Code variable"
   ]
  },
  {
   "cell_type": "code",
   "execution_count": 6,
   "metadata": {},
   "outputs": [],
   "source": [
    "CNN_weight = Path('./CNN_weight/SqueezeNet_pretrain_epoch-38.pt')\n",
    "images_raw = Path('D:/Data/ELO_images_jpg_crop_5CNN')\n",
    "save_image_path = Path('wrong classification extraction')\n",
    "data_npy = False"
   ]
  },
  {
   "cell_type": "markdown",
   "metadata": {},
   "source": [
    "## CNN"
   ]
  },
  {
   "cell_type": "markdown",
   "metadata": {},
   "source": [
    "### AlexNet"
   ]
  },
  {
   "cell_type": "code",
   "execution_count": 3,
   "metadata": {},
   "outputs": [],
   "source": [
    "Net = models.alexnet(pretrained=True)\n",
    "num_ftrs = Net.classifier[6].in_features\n",
    "Net.classifier[6] = torch.nn.Linear(num_ftrs,3)"
   ]
  },
  {
   "cell_type": "markdown",
   "metadata": {},
   "source": [
    "### SqueezeNet"
   ]
  },
  {
   "cell_type": "code",
   "execution_count": 5,
   "metadata": {},
   "outputs": [],
   "source": [
    "Net = models.squeezenet1_0(pretrained=True)\n",
    "Net.classifier[1] = torch.nn.Conv2d(512, 3, kernel_size=(1,1), stride=(1,1))"
   ]
  },
  {
   "cell_type": "markdown",
   "metadata": {},
   "source": [
    "### Load trained weight in the CNN"
   ]
  },
  {
   "cell_type": "code",
   "execution_count": 6,
   "metadata": {},
   "outputs": [
    {
     "data": {
      "text/plain": [
       "<All keys matched successfully>"
      ]
     },
     "execution_count": 6,
     "metadata": {},
     "output_type": "execute_result"
    }
   ],
   "source": [
    "Net.load_state_dict(torch.load(CNN_weight))"
   ]
  },
  {
   "cell_type": "markdown",
   "metadata": {},
   "source": [
    "## Cleaning work directory"
   ]
  },
  {
   "cell_type": "code",
   "execution_count": 7,
   "metadata": {},
   "outputs": [
    {
     "name": "stderr",
     "output_type": "stream",
     "text": [
      "0it [00:00, ?it/s]"
     ]
    },
    {
     "name": "stdout",
     "output_type": "stream",
     "text": [
      "0 has been deleted\n"
     ]
    },
    {
     "name": "stderr",
     "output_type": "stream",
     "text": [
      "\n"
     ]
    }
   ],
   "source": [
    "image_removed = 0\n",
    "for file in tqdm(save_image_path.glob('**/*.jpg')): #extract every jpg in the folder\n",
    "    try:\n",
    "        #print(file)\n",
    "        file.unlink() # remove the image\n",
    "        image_removed += 1\n",
    "    except Exception as e:\n",
    "        print(e)\n",
    "print(f\"{image_removed} has been deleted\")"
   ]
  },
  {
   "cell_type": "markdown",
   "metadata": {},
   "source": [
    "## Data preprocessing"
   ]
  },
  {
   "cell_type": "code",
   "execution_count": 8,
   "metadata": {},
   "outputs": [],
   "source": [
    "class data_ELO():\n",
    "    IMG_SIZE = 224\n",
    "    NORMAL = Path(r'D:\\Data\\ELO_images_jpg_crop_5CNN\\0')\n",
    "    POROUS = Path(r'D:\\Data\\ELO_images_jpg_crop_5CNN\\1')\n",
    "    BULGING = Path(r'D:\\Data\\ELO_images_jpg_crop_5CNN\\2')\n",
    "    LABELS = {NORMAL:0, POROUS:1,BULGING:2}\n",
    "    \n",
    "    data= []\n",
    "    \n",
    "    normal_count = 0\n",
    "    porous_count = 0\n",
    "    bulging_count = 0\n",
    "    \n",
    "    error_count = 0\n",
    "    total_image = 0\n",
    "    \n",
    "    \n",
    "    \n",
    "    def make_preprocess_data(self):\n",
    "        for label in self.LABELS:\n",
    "            for file in tqdm(label.glob('*.jpg')): #extract every jpg in the folder\n",
    "                try:\n",
    "                    img = cv2.imread( str(file), cv2.IMREAD_COLOR)\n",
    "                    img = cv2.resize(img , (self.IMG_SIZE, self.IMG_SIZE))\n",
    "                    self.data.append([np.array(img) / 255, np.eye(3)[self.LABELS[label]] ])\n",
    "                    self.normal_count , self.porous_count, self.bulging_count = [self.normal_count , self.porous_count, self.bulging_count] +  np.eye(3)[self.LABELS[label]]\n",
    "                    self.total_image += 1\n",
    "                except Exception as e:\n",
    "                    self.error_count +=1\n",
    "                    print(e)\n",
    "                    \n",
    "                #if self.total_image > 1000:\n",
    "                #    break\n",
    "                    \n",
    "        random.shuffle(self.data)\n",
    "        print(f\"Importation error : {self.error_count}\")\n",
    "        print(f\"Data repartition: Normal {self.normal_count} ; Porous {self.porous_count} ; bulging_count {self.bulging_count} ; Total {self.total_image}\")\n",
    "        print(f\"Data repartition: Normal {self.normal_count/self.total_image} % ; Porous {self.porous_count/ self.total_image} % ; bulging_count {self.bulging_count/ self.total_image}%\")\n",
    "    \n",
    "    def save_data(self,name='data'):\n",
    "        np.save( name , self.data , allow_pickle = True)\n",
    "        print(f\"Data saved in {name}.npy\") \n",
    "        data = []\n",
    "        print('Data cleared')\n",
    "        \n",
    "    def load_data(self,name='data'):\n",
    "        self.data = np.load(name + '.npy', allow_pickle = True )"
   ]
  },
  {
   "cell_type": "code",
   "execution_count": 11,
   "metadata": {},
   "outputs": [
    {
     "name": "stderr",
     "output_type": "stream",
     "text": [
      "3167it [00:19, 164.60it/s]\n",
      "3167it [00:20, 157.88it/s]\n",
      "3167it [00:18, 167.56it/s]\n"
     ]
    },
    {
     "name": "stdout",
     "output_type": "stream",
     "text": [
      "Importation error : 0\n",
      "Data repartition: Normal 3167.0 ; Porous 3167.0 ; bulging_count 3167.0 ; Total 9501\n",
      "Data repartition: Normal 0.3333333333333333 % ; Porous 0.3333333333333333 % ; bulging_count 0.3333333333333333%\n"
     ]
    }
   ],
   "source": [
    "data = data_ELO()\n",
    "if data_npy:\n",
    "    data.load_data()\n",
    "else:\n",
    "    data.make_preprocess_data()\n",
    "    #data.save_data()\n",
    "    "
   ]
  },
  {
   "cell_type": "markdown",
   "metadata": {},
   "source": [
    "# CNN processing"
   ]
  },
  {
   "cell_type": "code",
   "execution_count": 12,
   "metadata": {},
   "outputs": [
    {
     "data": {
      "text/plain": [
       "AlexNet(\n",
       "  (features): Sequential(\n",
       "    (0): Conv2d(3, 64, kernel_size=(11, 11), stride=(4, 4), padding=(2, 2))\n",
       "    (1): ReLU(inplace=True)\n",
       "    (2): MaxPool2d(kernel_size=3, stride=2, padding=0, dilation=1, ceil_mode=False)\n",
       "    (3): Conv2d(64, 192, kernel_size=(5, 5), stride=(1, 1), padding=(2, 2))\n",
       "    (4): ReLU(inplace=True)\n",
       "    (5): MaxPool2d(kernel_size=3, stride=2, padding=0, dilation=1, ceil_mode=False)\n",
       "    (6): Conv2d(192, 384, kernel_size=(3, 3), stride=(1, 1), padding=(1, 1))\n",
       "    (7): ReLU(inplace=True)\n",
       "    (8): Conv2d(384, 256, kernel_size=(3, 3), stride=(1, 1), padding=(1, 1))\n",
       "    (9): ReLU(inplace=True)\n",
       "    (10): Conv2d(256, 256, kernel_size=(3, 3), stride=(1, 1), padding=(1, 1))\n",
       "    (11): ReLU(inplace=True)\n",
       "    (12): MaxPool2d(kernel_size=3, stride=2, padding=0, dilation=1, ceil_mode=False)\n",
       "  )\n",
       "  (avgpool): AdaptiveAvgPool2d(output_size=(6, 6))\n",
       "  (classifier): Sequential(\n",
       "    (0): Dropout(p=0.5, inplace=False)\n",
       "    (1): Linear(in_features=9216, out_features=4096, bias=True)\n",
       "    (2): ReLU(inplace=True)\n",
       "    (3): Dropout(p=0.5, inplace=False)\n",
       "    (4): Linear(in_features=4096, out_features=4096, bias=True)\n",
       "    (5): ReLU(inplace=True)\n",
       "    (6): Linear(in_features=4096, out_features=3, bias=True)\n",
       "  )\n",
       ")"
      ]
     },
     "execution_count": 12,
     "metadata": {},
     "output_type": "execute_result"
    }
   ],
   "source": [
    "Net.eval()"
   ]
  },
  {
   "cell_type": "code",
   "execution_count": 13,
   "metadata": {},
   "outputs": [
    {
     "name": "stdout",
     "output_type": "stream",
     "text": [
      "Running on the GPU\n"
     ]
    },
    {
     "data": {
      "text/plain": [
       "AlexNet(\n",
       "  (features): Sequential(\n",
       "    (0): Conv2d(3, 64, kernel_size=(11, 11), stride=(4, 4), padding=(2, 2))\n",
       "    (1): ReLU(inplace=True)\n",
       "    (2): MaxPool2d(kernel_size=3, stride=2, padding=0, dilation=1, ceil_mode=False)\n",
       "    (3): Conv2d(64, 192, kernel_size=(5, 5), stride=(1, 1), padding=(2, 2))\n",
       "    (4): ReLU(inplace=True)\n",
       "    (5): MaxPool2d(kernel_size=3, stride=2, padding=0, dilation=1, ceil_mode=False)\n",
       "    (6): Conv2d(192, 384, kernel_size=(3, 3), stride=(1, 1), padding=(1, 1))\n",
       "    (7): ReLU(inplace=True)\n",
       "    (8): Conv2d(384, 256, kernel_size=(3, 3), stride=(1, 1), padding=(1, 1))\n",
       "    (9): ReLU(inplace=True)\n",
       "    (10): Conv2d(256, 256, kernel_size=(3, 3), stride=(1, 1), padding=(1, 1))\n",
       "    (11): ReLU(inplace=True)\n",
       "    (12): MaxPool2d(kernel_size=3, stride=2, padding=0, dilation=1, ceil_mode=False)\n",
       "  )\n",
       "  (avgpool): AdaptiveAvgPool2d(output_size=(6, 6))\n",
       "  (classifier): Sequential(\n",
       "    (0): Dropout(p=0.5, inplace=False)\n",
       "    (1): Linear(in_features=9216, out_features=4096, bias=True)\n",
       "    (2): ReLU(inplace=True)\n",
       "    (3): Dropout(p=0.5, inplace=False)\n",
       "    (4): Linear(in_features=4096, out_features=4096, bias=True)\n",
       "    (5): ReLU(inplace=True)\n",
       "    (6): Linear(in_features=4096, out_features=3, bias=True)\n",
       "  )\n",
       ")"
      ]
     },
     "execution_count": 13,
     "metadata": {},
     "output_type": "execute_result"
    }
   ],
   "source": [
    "if torch.cuda.is_available():\n",
    "    device = torch.device(\"cuda:0\")  # you can continue going on here, like cuda:1 cuda:2....etc. \n",
    "    print(\"Running on the GPU\")\n",
    "else:\n",
    "    device = torch.device(\"cpu\")\n",
    "    print(\"Running on the CPU\")\n",
    "    \n",
    "Net.to(device)"
   ]
  },
  {
   "cell_type": "code",
   "execution_count": 31,
   "metadata": {},
   "outputs": [
    {
     "name": "stderr",
     "output_type": "stream",
     "text": [
      "100%|██████████| 100/100 [00:00<00:00, 182.43it/s]"
     ]
    },
    {
     "name": "stdout",
     "output_type": "stream",
     "text": [
      "--- 0.00554664134979248 seconds ---\n"
     ]
    },
    {
     "name": "stderr",
     "output_type": "stream",
     "text": [
      "\n"
     ]
    }
   ],
   "source": [
    "total_true = 0\n",
    "total_false = 0\n",
    "confusion_matrix = np.zeros((3,3))\n",
    "\n",
    "transform_img = transforms.Compose([\n",
    "            transforms.ToTensor(),\n",
    "            transforms.Normalize([0.485, 0.456, 0.406], [0.229, 0.224, 0.225]),\n",
    "            ])\n",
    "start_time = time.time()\n",
    "for i in tqdm( range(0, 100)): #len(data.data) ) ):\n",
    "    X,y = data.data[i]\n",
    "    X = (X ).astype(np.float)\n",
    "    X = transform_img(X)\n",
    "    X = X.view(1, -1 , 224, 224)\n",
    "    X = X.to(device, dtype=torch.float)\n",
    "    y_pred = Net(X).to(device)\n",
    "    y_pred_class = torch.argmax(y_pred)\n",
    "   \n",
    "    y = torch.argmax(torch.Tensor(y)) \n",
    "\n",
    "\n",
    "print(\"--- %s seconds ---\" % ((time.time() - start_time  )/100))"
   ]
  },
  {
   "cell_type": "code",
   "execution_count": null,
   "metadata": {},
   "outputs": [],
   "source": []
  },
  {
   "cell_type": "code",
   "execution_count": 15,
   "metadata": {},
   "outputs": [
    {
     "data": {
      "text/plain": [
       "array([[2832,  122,   76],\n",
       "       [  51, 3016,   12],\n",
       "       [ 284,   29, 3079]])"
      ]
     },
     "execution_count": 15,
     "metadata": {},
     "output_type": "execute_result"
    }
   ],
   "source": [
    "confusion_matrix.astype(np.int)"
   ]
  },
  {
   "cell_type": "code",
   "execution_count": 16,
   "metadata": {},
   "outputs": [
    {
     "data": {
      "image/png": "[encoded data removed]",
      "text/plain": [
       "<Figure size 432x288 with 1 Axes>"
      ]
     },
     "metadata": {},
     "output_type": "display_data"
    }
   ],
   "source": [
    "import matplotlib.pyplot as plt\n",
    "import seaborn as sn\n",
    "\n",
    "sn.set(font_scale=1.4) # for label size\n",
    "x_axis_labels = ['Normal','Porous','Bulging']\n",
    "y_axis_labels =  ['Normal','Porous','Bulging']\n",
    "confusion_matrix = sn.heatmap(confusion_matrix_per, annot=True, annot_kws={\"size\": 16}, square = True,cbar=False )\n",
    "confusion_matrix.set_xticklabels(x_axis_labels,va= \"center\")\n",
    "confusion_matrix.set_yticklabels(y_axis_labels,va= \"center\")\n",
    "for t in confusion_matrix.texts: t.set_text(t.get_text() + \" %\") # add % to every text value\n",
    "confusion_matrix.set(title=\"Confusion matrix of squeezenet (pretrain, epoch 38)\",\n",
    "      xlabel=\"Classified as\",\n",
    "      ylabel=\"Predicted as\",)\n",
    "figure = confusion_matrix.get_figure()\n",
    "figure.savefig(str(save_image_path.joinpath(\"confusion_matrix.png\")), bbox_inches='tight')"
   ]
  },
  {
   "cell_type": "code",
   "execution_count": null,
   "metadata": {},
   "outputs": [],
   "source": []
  }
 ],
 "metadata": {
  "kernelspec": {
   "display_name": "Python 3",
   "language": "python",
   "name": "python3"
  },
  "language_info": {
   "codemirror_mode": {
    "name": "ipython",
    "version": 3
   },
   "file_extension": ".py",
   "mimetype": "text/x-python",
   "name": "python",
   "nbconvert_exporter": "python",
   "pygments_lexer": "ipython3",
   "version": "3.7.7"
  }
 },
 "nbformat": 4,
 "nbformat_minor": 4
}
